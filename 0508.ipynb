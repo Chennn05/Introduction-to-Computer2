{
  "nbformat": 4,
  "nbformat_minor": 0,
  "metadata": {
    "colab": {
      "provenance": [],
      "authorship_tag": "ABX9TyOJstrZTWnWOgyMM4Kr/LX7",
      "include_colab_link": true
    },
    "kernelspec": {
      "name": "python3",
      "display_name": "Python 3"
    },
    "language_info": {
      "name": "python"
    }
  },
  "cells": [
    {
      "cell_type": "markdown",
      "metadata": {
        "id": "view-in-github",
        "colab_type": "text"
      },
      "source": [
        "<a href=\"https://colab.research.google.com/github/Chennn05/Introduction-to-Computer2/blob/main/0508.ipynb\" target=\"_parent\"><img src=\"https://colab.research.google.com/assets/colab-badge.svg\" alt=\"Open In Colab\"/></a>"
      ]
    },
    {
      "cell_type": "code",
      "execution_count": 12,
      "metadata": {
        "colab": {
          "base_uri": "https://localhost:8080/"
        },
        "id": "Cs7E3LHgMNiE",
        "outputId": "176e421a-69de-4094-a14e-e55c60c03d01"
      },
      "outputs": [
        {
          "output_type": "stream",
          "name": "stdout",
          "text": [
            "請輸入溫度35\n",
            "體溫正常！\n"
          ]
        }
      ],
      "source": [
        "溫度=int(input(\"請輸入溫度\"))\n",
        "if 溫度 >= 37.5:\n",
        "    print(\"體溫過高！\")\n",
        "elif 37.4 >= 溫度 >= 37:\n",
        "    print(\"體溫略高！\")\n",
        "elif 34 <= 溫度 <= 36.9:\n",
        "    print(\"體溫正常！\")\n",
        "else:\n",
        "    print(\"體溫異常，請重新測量！\")"
      ]
    },
    {
      "cell_type": "code",
      "source": [
        "成績=int(input(\"請輸入成績\"))\n",
        "if 成績>=90:\n",
        "   print(\"Ａ\")\n",
        "elif 89>=成績>=80:\n",
        "   print(\"B\")\n",
        "elif 79>=成績>=70:\n",
        "   print(\"C\")\n",
        "elif 69>=成績>=60:\n",
        "   print(\"D\")\n",
        "else:\n",
        "   print(\"E\")"
      ],
      "metadata": {
        "colab": {
          "base_uri": "https://localhost:8080/"
        },
        "id": "Sf-A0-RFPBz8",
        "outputId": "72656098-bfd5-4929-aaea-0b83821bcff1"
      },
      "execution_count": 17,
      "outputs": [
        {
          "output_type": "stream",
          "name": "stdout",
          "text": [
            "請輸入成績90\n",
            "Ａ\n"
          ]
        }
      ]
    },
    {
      "cell_type": "code",
      "source": [
        "month = int(input(\"請輸入月份\"))\n",
        "if month in [3, 4, 5]:\n",
        "  print(\"是春天！\")\n",
        "elif month in [6, 7, 8]:\n",
        "  print(\"是夏天！\")\n",
        "elif month in [9, 10, 11]:\n",
        "  print(\"是秋天！\")\n",
        "elif month in [12, 1, 2]:\n",
        "  print(\"是冬天！\")\n",
        "else:\n",
        "  print(\"月份不在範圍內!\")"
      ],
      "metadata": {
        "colab": {
          "base_uri": "https://localhost:8080/"
        },
        "id": "cP_pgYUWRDRE",
        "outputId": "1418a39b-4aeb-4ed0-890c-267d045340d1"
      },
      "execution_count": 22,
      "outputs": [
        {
          "output_type": "stream",
          "name": "stdout",
          "text": [
            "請輸入月份2\n",
            "是冬天！\n"
          ]
        }
      ]
    }
  ]
}